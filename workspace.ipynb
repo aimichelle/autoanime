{
 "cells": [
  {
   "cell_type": "code",
   "execution_count": 1,
   "metadata": {
    "collapsed": true
   },
   "outputs": [],
   "source": [
    "import sys\n",
    "import os\n",
    "import math\n",
    "import dlib\n",
    "import glob\n",
    "from skimage import io\n",
    "from PIL import Image, ImageDraw\n",
    "\n",
    "MODEL = \"shape_predictor_68_face_landmarks.dat\""
   ]
  },
  {
   "cell_type": "code",
   "execution_count": 3,
   "metadata": {
    "collapsed": false
   },
   "outputs": [],
   "source": [
    "%matplotlib inline\n",
    "import autoanime"
   ]
  },
  {
   "cell_type": "code",
   "execution_count": 6,
   "metadata": {
    "collapsed": true
   },
   "outputs": [],
   "source": [
    "def dist(p1,p2):\n",
    "    return math.sqrt(sum([pow(c1-c2,2) for (c1,c2) in zip(p1,p2)]))"
   ]
  },
  {
   "cell_type": "code",
   "execution_count": 16,
   "metadata": {
    "collapsed": false
   },
   "outputs": [],
   "source": [
    "def crop_wrapper(x, y, x_plus, y_plus, im):\n",
    "    \"\"\"crops image centered at (x,y) by (x_plus, y_plus) in each direction.\"\"\"\n",
    "     \n",
    "    return im.crop((x-x_plus, y-y_plus, x+x_plus, y+y_plus))"
   ]
  },
  {
   "cell_type": "code",
   "execution_count": 17,
   "metadata": {
    "collapsed": false
   },
   "outputs": [
    {
     "name": "stdout",
     "output_type": "stream",
     "text": [
      "309 78 64 17\n"
     ]
    }
   ],
   "source": [
    "#main stuff\n",
    "fname = 'me.jpg'\n",
    "#shape = autoanime.predict_shape(fname) #CHANGE\n",
    "orig_im = Image.open(fname)\n",
    "new_im = Image.new(\"RGB\", (orig_im.size[0], orig_im.size[1]), color=(255,255,255))\n",
    "\n",
    "l_eyebrow = [shape.part(18),shape.part(19),shape.part(20),shape.part(21),shape.part(22)]\n",
    "r_eyebrow = [shape.part(23),shape.part(24),shape.part(25),shape.part(26),shape.part(27)]\n",
    "\n",
    "max_left = max([p.y for p in l_eyebrow])\n",
    "max_right = max([p.y for p in r_eyebrow])\n",
    "\n",
    "max_left_eye = max(shape.part(38).y, shape.part(39).y)\n",
    "max_right_eye = max(shape.part(44).y, shape.part(45).y)\n",
    "\n",
    "# print max_left, max_right\n",
    "\n",
    "left_offset = abs(max_left - max_left_eye)\n",
    "right_offset = abs(max_right - max_right_eye)\n",
    "\n",
    "left_x_offset = max(abs(shape.part(20).x - shape.part(18).x), abs(shape.part(20).x - shape.part(22).x))\n",
    "\n",
    "# print left_offset, right_offset\n",
    "\n",
    "print shape.part(20).x, shape.part(20).y, left_x_offset, left_offset\n",
    "\n",
    "cropped_left = crop_wrapper(shape.part(20).x, shape.part(20).y, left_x_offset, left_offset, orig_im)\n",
    "cropped_left.show()\n"
   ]
  },
  {
   "cell_type": "code",
   "execution_count": null,
   "metadata": {
    "collapsed": true
   },
   "outputs": [],
   "source": []
  }
 ],
 "metadata": {
  "kernelspec": {
   "display_name": "Python 2",
   "language": "python",
   "name": "python2"
  },
  "language_info": {
   "codemirror_mode": {
    "name": "ipython",
    "version": 2
   },
   "file_extension": ".py",
   "mimetype": "text/x-python",
   "name": "python",
   "nbconvert_exporter": "python",
   "pygments_lexer": "ipython2",
   "version": "2.7.10"
  }
 },
 "nbformat": 4,
 "nbformat_minor": 0
}
